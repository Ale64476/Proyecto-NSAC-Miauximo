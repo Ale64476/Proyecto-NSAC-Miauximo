{
 "cells": [
  {
   "cell_type": "code",
   "execution_count": null,
   "id": "c289f0ca",
   "metadata": {},
   "outputs": [
    {
     "name": "stdout",
     "output_type": "stream",
     "text": [
      "Index(['date', 'lat', 'lon', 'PRECTOTCORR', 'T2M_MAX', 'T2M_MIN', 'RH2M',\n",
      "       'WS10M', 'ALLSKY_SFC_SW_DWN', 'DOY', 'MONTH', 'YEAR',\n",
      "       'PRECTOTCORR_log'],\n",
      "      dtype='object')\n"
     ]
    },
    {
     "data": {
      "text/html": [
       "<div>\n",
       "<style scoped>\n",
       "    .dataframe tbody tr th:only-of-type {\n",
       "        vertical-align: middle;\n",
       "    }\n",
       "\n",
       "    .dataframe tbody tr th {\n",
       "        vertical-align: top;\n",
       "    }\n",
       "\n",
       "    .dataframe thead th {\n",
       "        text-align: right;\n",
       "    }\n",
       "</style>\n",
       "<table border=\"1\" class=\"dataframe\">\n",
       "  <thead>\n",
       "    <tr style=\"text-align: right;\">\n",
       "      <th></th>\n",
       "      <th>date</th>\n",
       "      <th>lat</th>\n",
       "      <th>lon</th>\n",
       "      <th>PRECTOTCORR</th>\n",
       "      <th>T2M_MAX</th>\n",
       "      <th>T2M_MIN</th>\n",
       "      <th>RH2M</th>\n",
       "      <th>WS10M</th>\n",
       "      <th>ALLSKY_SFC_SW_DWN</th>\n",
       "      <th>DOY</th>\n",
       "      <th>MONTH</th>\n",
       "      <th>YEAR</th>\n",
       "      <th>PRECTOTCORR_log</th>\n",
       "    </tr>\n",
       "  </thead>\n",
       "  <tbody>\n",
       "    <tr>\n",
       "      <th>0</th>\n",
       "      <td>1998-01-01</td>\n",
       "      <td>18.0</td>\n",
       "      <td>-90.0</td>\n",
       "      <td>2.67</td>\n",
       "      <td>22.79</td>\n",
       "      <td>13.84</td>\n",
       "      <td>91.55</td>\n",
       "      <td>1.26</td>\n",
       "      <td>13.56</td>\n",
       "      <td>1</td>\n",
       "      <td>1</td>\n",
       "      <td>1998</td>\n",
       "      <td>1.300192</td>\n",
       "    </tr>\n",
       "    <tr>\n",
       "      <th>1</th>\n",
       "      <td>1998-01-02</td>\n",
       "      <td>18.0</td>\n",
       "      <td>-90.0</td>\n",
       "      <td>10.93</td>\n",
       "      <td>24.50</td>\n",
       "      <td>14.65</td>\n",
       "      <td>94.30</td>\n",
       "      <td>1.01</td>\n",
       "      <td>11.17</td>\n",
       "      <td>2</td>\n",
       "      <td>1</td>\n",
       "      <td>1998</td>\n",
       "      <td>2.479056</td>\n",
       "    </tr>\n",
       "    <tr>\n",
       "      <th>2</th>\n",
       "      <td>1998-01-03</td>\n",
       "      <td>18.0</td>\n",
       "      <td>-90.0</td>\n",
       "      <td>5.84</td>\n",
       "      <td>26.57</td>\n",
       "      <td>19.78</td>\n",
       "      <td>94.18</td>\n",
       "      <td>1.17</td>\n",
       "      <td>9.82</td>\n",
       "      <td>3</td>\n",
       "      <td>1</td>\n",
       "      <td>1998</td>\n",
       "      <td>1.922788</td>\n",
       "    </tr>\n",
       "    <tr>\n",
       "      <th>3</th>\n",
       "      <td>1998-01-04</td>\n",
       "      <td>18.0</td>\n",
       "      <td>-90.0</td>\n",
       "      <td>1.03</td>\n",
       "      <td>27.19</td>\n",
       "      <td>20.47</td>\n",
       "      <td>91.01</td>\n",
       "      <td>1.05</td>\n",
       "      <td>9.81</td>\n",
       "      <td>4</td>\n",
       "      <td>1</td>\n",
       "      <td>1998</td>\n",
       "      <td>0.708036</td>\n",
       "    </tr>\n",
       "    <tr>\n",
       "      <th>4</th>\n",
       "      <td>1998-01-05</td>\n",
       "      <td>18.0</td>\n",
       "      <td>-90.0</td>\n",
       "      <td>0.25</td>\n",
       "      <td>27.67</td>\n",
       "      <td>20.96</td>\n",
       "      <td>89.50</td>\n",
       "      <td>1.04</td>\n",
       "      <td>12.98</td>\n",
       "      <td>5</td>\n",
       "      <td>1</td>\n",
       "      <td>1998</td>\n",
       "      <td>0.223144</td>\n",
       "    </tr>\n",
       "  </tbody>\n",
       "</table>\n",
       "</div>"
      ],
      "text/plain": [
       "        date   lat   lon  PRECTOTCORR  T2M_MAX  T2M_MIN   RH2M  WS10M  \\\n",
       "0 1998-01-01  18.0 -90.0         2.67    22.79    13.84  91.55   1.26   \n",
       "1 1998-01-02  18.0 -90.0        10.93    24.50    14.65  94.30   1.01   \n",
       "2 1998-01-03  18.0 -90.0         5.84    26.57    19.78  94.18   1.17   \n",
       "3 1998-01-04  18.0 -90.0         1.03    27.19    20.47  91.01   1.05   \n",
       "4 1998-01-05  18.0 -90.0         0.25    27.67    20.96  89.50   1.04   \n",
       "\n",
       "   ALLSKY_SFC_SW_DWN  DOY  MONTH  YEAR  PRECTOTCORR_log  \n",
       "0              13.56    1      1  1998         1.300192  \n",
       "1              11.17    2      1  1998         2.479056  \n",
       "2               9.82    3      1  1998         1.922788  \n",
       "3               9.81    4      1  1998         0.708036  \n",
       "4              12.98    5      1  1998         0.223144  "
      ]
     },
     "execution_count": 24,
     "metadata": {},
     "output_type": "execute_result"
    }
   ],
   "source": [
    "import os\n",
    "from pathlib import Path\n",
    "import json\n",
    "import joblib\n",
    "import numpy as np\n",
    "import datetime\n",
    "import pandas as pd\n",
    "\n",
    "# Cargar el archivo CSV\n",
    "df = pd.read_csv(\"power_yucatan_25yrs.csv\")\n",
    "\n",
    "# Convertir la columna 'date' desde formato yyyymmdd\n",
    "df['date'] = pd.to_datetime(df['date'].astype(str), format=\"%Y%m%d\")\n",
    "\n",
    "# Extraer variables temporales\n",
    "df['DOY'] = df['date'].dt.dayofyear\n",
    "df['MONTH'] = df['date'].dt.month\n",
    "df['YEAR'] = df['date'].dt.year\n",
    "\n",
    "\n",
    "# Transformar la precipitación para mejorar el aprendizaje\n",
    "df['PRECTOTCORR_log'] = np.log1p(df['PRECTOTCORR'])  # log(1 + x)\n",
    "\n",
    "# Verifica columnas disponibles\n",
    "print(df.columns)\n",
    "df.head()"
   ]
  },
  {
   "cell_type": "code",
   "execution_count": 38,
   "id": "135123a6",
   "metadata": {},
   "outputs": [],
   "source": [
    "# Entradas: solo fecha y coordenadas\n",
    "input_features = ['DOY', 'MONTH', 'YEAR', 'lat', 'lon']\n",
    "\n",
    "# Salidas: variables climáticas\n",
    "output_features = ['PRECTOTCORR_log', 'T2M_MAX', 'T2M_MIN', 'RH2M', 'WS10M', 'ALLSKY_SFC_SW_DWN']\n",
    "\n",
    "X = df[input_features].values\n",
    "y = df[output_features].values"
   ]
  },
  {
   "cell_type": "code",
   "execution_count": 39,
   "id": "9477d8e3",
   "metadata": {},
   "outputs": [],
   "source": [
    "from sklearn.model_selection import train_test_split\n",
    "from sklearn.preprocessing import MinMaxScaler\n",
    "\n",
    "# Dividir\n",
    "X_train, X_test, y_train, y_test = train_test_split(X, y, test_size=0.2, shuffle=False)\n",
    "\n",
    "# Escalar\n",
    "scaler_input = MinMaxScaler()\n",
    "scaler_output = MinMaxScaler()\n",
    "\n",
    "X_train_scaled = scaler_input.fit_transform(X_train)\n",
    "X_test_scaled = scaler_input.transform(X_test)\n",
    "\n",
    "y_train_scaled = scaler_output.fit_transform(y_train)\n",
    "y_test_scaled = scaler_output.transform(y_test)"
   ]
  },
  {
   "cell_type": "code",
   "execution_count": 51,
   "id": "83686455",
   "metadata": {},
   "outputs": [
    {
     "name": "stderr",
     "output_type": "stream",
     "text": [
      "c:\\Todo\\NSAC-Miauximo2\\Proyecto-NSAC-Miauximo\\pruebas\\venv\\Lib\\site-packages\\keras\\src\\layers\\core\\dense.py:92: UserWarning: Do not pass an `input_shape`/`input_dim` argument to a layer. When using Sequential models, prefer using an `Input(shape)` object as the first layer in the model instead.\n",
      "  super().__init__(activity_regularizer=activity_regularizer, **kwargs)\n",
      "c:\\Todo\\NSAC-Miauximo2\\Proyecto-NSAC-Miauximo\\pruebas\\venv\\Lib\\site-packages\\keras\\src\\layers\\activations\\leaky_relu.py:41: UserWarning: Argument `alpha` is deprecated. Use `negative_slope` instead.\n",
      "  warnings.warn(\n"
     ]
    },
    {
     "data": {
      "text/html": [
       "<pre style=\"white-space:pre;overflow-x:auto;line-height:normal;font-family:Menlo,'DejaVu Sans Mono',consolas,'Courier New',monospace\"><span style=\"font-weight: bold\">Model: \"sequential_4\"</span>\n",
       "</pre>\n"
      ],
      "text/plain": [
       "\u001b[1mModel: \"sequential_4\"\u001b[0m\n"
      ]
     },
     "metadata": {},
     "output_type": "display_data"
    },
    {
     "data": {
      "text/html": [
       "<pre style=\"white-space:pre;overflow-x:auto;line-height:normal;font-family:Menlo,'DejaVu Sans Mono',consolas,'Courier New',monospace\">┏━━━━━━━━━━━━━━━━━━━━━━━━━━━━━━━━━┳━━━━━━━━━━━━━━━━━━━━━━━━┳━━━━━━━━━━━━━━━┓\n",
       "┃<span style=\"font-weight: bold\"> Layer (type)                    </span>┃<span style=\"font-weight: bold\"> Output Shape           </span>┃<span style=\"font-weight: bold\">       Param # </span>┃\n",
       "┡━━━━━━━━━━━━━━━━━━━━━━━━━━━━━━━━━╇━━━━━━━━━━━━━━━━━━━━━━━━╇━━━━━━━━━━━━━━━┩\n",
       "│ dense_17 (<span style=\"color: #0087ff; text-decoration-color: #0087ff\">Dense</span>)                │ (<span style=\"color: #00d7ff; text-decoration-color: #00d7ff\">None</span>, <span style=\"color: #00af00; text-decoration-color: #00af00\">128</span>)            │           <span style=\"color: #00af00; text-decoration-color: #00af00\">768</span> │\n",
       "├─────────────────────────────────┼────────────────────────┼───────────────┤\n",
       "│ leaky_re_lu (<span style=\"color: #0087ff; text-decoration-color: #0087ff\">LeakyReLU</span>)         │ (<span style=\"color: #00d7ff; text-decoration-color: #00d7ff\">None</span>, <span style=\"color: #00af00; text-decoration-color: #00af00\">128</span>)            │             <span style=\"color: #00af00; text-decoration-color: #00af00\">0</span> │\n",
       "├─────────────────────────────────┼────────────────────────┼───────────────┤\n",
       "│ dropout_6 (<span style=\"color: #0087ff; text-decoration-color: #0087ff\">Dropout</span>)             │ (<span style=\"color: #00d7ff; text-decoration-color: #00d7ff\">None</span>, <span style=\"color: #00af00; text-decoration-color: #00af00\">128</span>)            │             <span style=\"color: #00af00; text-decoration-color: #00af00\">0</span> │\n",
       "├─────────────────────────────────┼────────────────────────┼───────────────┤\n",
       "│ dense_18 (<span style=\"color: #0087ff; text-decoration-color: #0087ff\">Dense</span>)                │ (<span style=\"color: #00d7ff; text-decoration-color: #00d7ff\">None</span>, <span style=\"color: #00af00; text-decoration-color: #00af00\">64</span>)             │         <span style=\"color: #00af00; text-decoration-color: #00af00\">8,256</span> │\n",
       "├─────────────────────────────────┼────────────────────────┼───────────────┤\n",
       "│ leaky_re_lu_1 (<span style=\"color: #0087ff; text-decoration-color: #0087ff\">LeakyReLU</span>)       │ (<span style=\"color: #00d7ff; text-decoration-color: #00d7ff\">None</span>, <span style=\"color: #00af00; text-decoration-color: #00af00\">64</span>)             │             <span style=\"color: #00af00; text-decoration-color: #00af00\">0</span> │\n",
       "├─────────────────────────────────┼────────────────────────┼───────────────┤\n",
       "│ dropout_7 (<span style=\"color: #0087ff; text-decoration-color: #0087ff\">Dropout</span>)             │ (<span style=\"color: #00d7ff; text-decoration-color: #00d7ff\">None</span>, <span style=\"color: #00af00; text-decoration-color: #00af00\">64</span>)             │             <span style=\"color: #00af00; text-decoration-color: #00af00\">0</span> │\n",
       "├─────────────────────────────────┼────────────────────────┼───────────────┤\n",
       "│ dense_19 (<span style=\"color: #0087ff; text-decoration-color: #0087ff\">Dense</span>)                │ (<span style=\"color: #00d7ff; text-decoration-color: #00d7ff\">None</span>, <span style=\"color: #00af00; text-decoration-color: #00af00\">32</span>)             │         <span style=\"color: #00af00; text-decoration-color: #00af00\">2,080</span> │\n",
       "├─────────────────────────────────┼────────────────────────┼───────────────┤\n",
       "│ leaky_re_lu_2 (<span style=\"color: #0087ff; text-decoration-color: #0087ff\">LeakyReLU</span>)       │ (<span style=\"color: #00d7ff; text-decoration-color: #00d7ff\">None</span>, <span style=\"color: #00af00; text-decoration-color: #00af00\">32</span>)             │             <span style=\"color: #00af00; text-decoration-color: #00af00\">0</span> │\n",
       "├─────────────────────────────────┼────────────────────────┼───────────────┤\n",
       "│ dense_20 (<span style=\"color: #0087ff; text-decoration-color: #0087ff\">Dense</span>)                │ (<span style=\"color: #00d7ff; text-decoration-color: #00d7ff\">None</span>, <span style=\"color: #00af00; text-decoration-color: #00af00\">6</span>)              │           <span style=\"color: #00af00; text-decoration-color: #00af00\">198</span> │\n",
       "└─────────────────────────────────┴────────────────────────┴───────────────┘\n",
       "</pre>\n"
      ],
      "text/plain": [
       "┏━━━━━━━━━━━━━━━━━━━━━━━━━━━━━━━━━┳━━━━━━━━━━━━━━━━━━━━━━━━┳━━━━━━━━━━━━━━━┓\n",
       "┃\u001b[1m \u001b[0m\u001b[1mLayer (type)                   \u001b[0m\u001b[1m \u001b[0m┃\u001b[1m \u001b[0m\u001b[1mOutput Shape          \u001b[0m\u001b[1m \u001b[0m┃\u001b[1m \u001b[0m\u001b[1m      Param #\u001b[0m\u001b[1m \u001b[0m┃\n",
       "┡━━━━━━━━━━━━━━━━━━━━━━━━━━━━━━━━━╇━━━━━━━━━━━━━━━━━━━━━━━━╇━━━━━━━━━━━━━━━┩\n",
       "│ dense_17 (\u001b[38;5;33mDense\u001b[0m)                │ (\u001b[38;5;45mNone\u001b[0m, \u001b[38;5;34m128\u001b[0m)            │           \u001b[38;5;34m768\u001b[0m │\n",
       "├─────────────────────────────────┼────────────────────────┼───────────────┤\n",
       "│ leaky_re_lu (\u001b[38;5;33mLeakyReLU\u001b[0m)         │ (\u001b[38;5;45mNone\u001b[0m, \u001b[38;5;34m128\u001b[0m)            │             \u001b[38;5;34m0\u001b[0m │\n",
       "├─────────────────────────────────┼────────────────────────┼───────────────┤\n",
       "│ dropout_6 (\u001b[38;5;33mDropout\u001b[0m)             │ (\u001b[38;5;45mNone\u001b[0m, \u001b[38;5;34m128\u001b[0m)            │             \u001b[38;5;34m0\u001b[0m │\n",
       "├─────────────────────────────────┼────────────────────────┼───────────────┤\n",
       "│ dense_18 (\u001b[38;5;33mDense\u001b[0m)                │ (\u001b[38;5;45mNone\u001b[0m, \u001b[38;5;34m64\u001b[0m)             │         \u001b[38;5;34m8,256\u001b[0m │\n",
       "├─────────────────────────────────┼────────────────────────┼───────────────┤\n",
       "│ leaky_re_lu_1 (\u001b[38;5;33mLeakyReLU\u001b[0m)       │ (\u001b[38;5;45mNone\u001b[0m, \u001b[38;5;34m64\u001b[0m)             │             \u001b[38;5;34m0\u001b[0m │\n",
       "├─────────────────────────────────┼────────────────────────┼───────────────┤\n",
       "│ dropout_7 (\u001b[38;5;33mDropout\u001b[0m)             │ (\u001b[38;5;45mNone\u001b[0m, \u001b[38;5;34m64\u001b[0m)             │             \u001b[38;5;34m0\u001b[0m │\n",
       "├─────────────────────────────────┼────────────────────────┼───────────────┤\n",
       "│ dense_19 (\u001b[38;5;33mDense\u001b[0m)                │ (\u001b[38;5;45mNone\u001b[0m, \u001b[38;5;34m32\u001b[0m)             │         \u001b[38;5;34m2,080\u001b[0m │\n",
       "├─────────────────────────────────┼────────────────────────┼───────────────┤\n",
       "│ leaky_re_lu_2 (\u001b[38;5;33mLeakyReLU\u001b[0m)       │ (\u001b[38;5;45mNone\u001b[0m, \u001b[38;5;34m32\u001b[0m)             │             \u001b[38;5;34m0\u001b[0m │\n",
       "├─────────────────────────────────┼────────────────────────┼───────────────┤\n",
       "│ dense_20 (\u001b[38;5;33mDense\u001b[0m)                │ (\u001b[38;5;45mNone\u001b[0m, \u001b[38;5;34m6\u001b[0m)              │           \u001b[38;5;34m198\u001b[0m │\n",
       "└─────────────────────────────────┴────────────────────────┴───────────────┘\n"
      ]
     },
     "metadata": {},
     "output_type": "display_data"
    },
    {
     "data": {
      "text/html": [
       "<pre style=\"white-space:pre;overflow-x:auto;line-height:normal;font-family:Menlo,'DejaVu Sans Mono',consolas,'Courier New',monospace\"><span style=\"font-weight: bold\"> Total params: </span><span style=\"color: #00af00; text-decoration-color: #00af00\">11,302</span> (44.15 KB)\n",
       "</pre>\n"
      ],
      "text/plain": [
       "\u001b[1m Total params: \u001b[0m\u001b[38;5;34m11,302\u001b[0m (44.15 KB)\n"
      ]
     },
     "metadata": {},
     "output_type": "display_data"
    },
    {
     "data": {
      "text/html": [
       "<pre style=\"white-space:pre;overflow-x:auto;line-height:normal;font-family:Menlo,'DejaVu Sans Mono',consolas,'Courier New',monospace\"><span style=\"font-weight: bold\"> Trainable params: </span><span style=\"color: #00af00; text-decoration-color: #00af00\">11,302</span> (44.15 KB)\n",
       "</pre>\n"
      ],
      "text/plain": [
       "\u001b[1m Trainable params: \u001b[0m\u001b[38;5;34m11,302\u001b[0m (44.15 KB)\n"
      ]
     },
     "metadata": {},
     "output_type": "display_data"
    },
    {
     "data": {
      "text/html": [
       "<pre style=\"white-space:pre;overflow-x:auto;line-height:normal;font-family:Menlo,'DejaVu Sans Mono',consolas,'Courier New',monospace\"><span style=\"font-weight: bold\"> Non-trainable params: </span><span style=\"color: #00af00; text-decoration-color: #00af00\">0</span> (0.00 B)\n",
       "</pre>\n"
      ],
      "text/plain": [
       "\u001b[1m Non-trainable params: \u001b[0m\u001b[38;5;34m0\u001b[0m (0.00 B)\n"
      ]
     },
     "metadata": {},
     "output_type": "display_data"
    },
    {
     "data": {
      "text/html": [
       "<pre style=\"white-space:pre;overflow-x:auto;line-height:normal;font-family:Menlo,'DejaVu Sans Mono',consolas,'Courier New',monospace\"><span style=\"font-weight: bold\">Model: \"sequential_4\"</span>\n",
       "</pre>\n"
      ],
      "text/plain": [
       "\u001b[1mModel: \"sequential_4\"\u001b[0m\n"
      ]
     },
     "metadata": {},
     "output_type": "display_data"
    },
    {
     "data": {
      "text/html": [
       "<pre style=\"white-space:pre;overflow-x:auto;line-height:normal;font-family:Menlo,'DejaVu Sans Mono',consolas,'Courier New',monospace\">┏━━━━━━━━━━━━━━━━━━━━━━━━━━━━━━━━━┳━━━━━━━━━━━━━━━━━━━━━━━━┳━━━━━━━━━━━━━━━┓\n",
       "┃<span style=\"font-weight: bold\"> Layer (type)                    </span>┃<span style=\"font-weight: bold\"> Output Shape           </span>┃<span style=\"font-weight: bold\">       Param # </span>┃\n",
       "┡━━━━━━━━━━━━━━━━━━━━━━━━━━━━━━━━━╇━━━━━━━━━━━━━━━━━━━━━━━━╇━━━━━━━━━━━━━━━┩\n",
       "│ dense_17 (<span style=\"color: #0087ff; text-decoration-color: #0087ff\">Dense</span>)                │ (<span style=\"color: #00d7ff; text-decoration-color: #00d7ff\">None</span>, <span style=\"color: #00af00; text-decoration-color: #00af00\">128</span>)            │           <span style=\"color: #00af00; text-decoration-color: #00af00\">768</span> │\n",
       "├─────────────────────────────────┼────────────────────────┼───────────────┤\n",
       "│ leaky_re_lu (<span style=\"color: #0087ff; text-decoration-color: #0087ff\">LeakyReLU</span>)         │ (<span style=\"color: #00d7ff; text-decoration-color: #00d7ff\">None</span>, <span style=\"color: #00af00; text-decoration-color: #00af00\">128</span>)            │             <span style=\"color: #00af00; text-decoration-color: #00af00\">0</span> │\n",
       "├─────────────────────────────────┼────────────────────────┼───────────────┤\n",
       "│ dropout_6 (<span style=\"color: #0087ff; text-decoration-color: #0087ff\">Dropout</span>)             │ (<span style=\"color: #00d7ff; text-decoration-color: #00d7ff\">None</span>, <span style=\"color: #00af00; text-decoration-color: #00af00\">128</span>)            │             <span style=\"color: #00af00; text-decoration-color: #00af00\">0</span> │\n",
       "├─────────────────────────────────┼────────────────────────┼───────────────┤\n",
       "│ dense_18 (<span style=\"color: #0087ff; text-decoration-color: #0087ff\">Dense</span>)                │ (<span style=\"color: #00d7ff; text-decoration-color: #00d7ff\">None</span>, <span style=\"color: #00af00; text-decoration-color: #00af00\">64</span>)             │         <span style=\"color: #00af00; text-decoration-color: #00af00\">8,256</span> │\n",
       "├─────────────────────────────────┼────────────────────────┼───────────────┤\n",
       "│ leaky_re_lu_1 (<span style=\"color: #0087ff; text-decoration-color: #0087ff\">LeakyReLU</span>)       │ (<span style=\"color: #00d7ff; text-decoration-color: #00d7ff\">None</span>, <span style=\"color: #00af00; text-decoration-color: #00af00\">64</span>)             │             <span style=\"color: #00af00; text-decoration-color: #00af00\">0</span> │\n",
       "├─────────────────────────────────┼────────────────────────┼───────────────┤\n",
       "│ dropout_7 (<span style=\"color: #0087ff; text-decoration-color: #0087ff\">Dropout</span>)             │ (<span style=\"color: #00d7ff; text-decoration-color: #00d7ff\">None</span>, <span style=\"color: #00af00; text-decoration-color: #00af00\">64</span>)             │             <span style=\"color: #00af00; text-decoration-color: #00af00\">0</span> │\n",
       "├─────────────────────────────────┼────────────────────────┼───────────────┤\n",
       "│ dense_19 (<span style=\"color: #0087ff; text-decoration-color: #0087ff\">Dense</span>)                │ (<span style=\"color: #00d7ff; text-decoration-color: #00d7ff\">None</span>, <span style=\"color: #00af00; text-decoration-color: #00af00\">32</span>)             │         <span style=\"color: #00af00; text-decoration-color: #00af00\">2,080</span> │\n",
       "├─────────────────────────────────┼────────────────────────┼───────────────┤\n",
       "│ leaky_re_lu_2 (<span style=\"color: #0087ff; text-decoration-color: #0087ff\">LeakyReLU</span>)       │ (<span style=\"color: #00d7ff; text-decoration-color: #00d7ff\">None</span>, <span style=\"color: #00af00; text-decoration-color: #00af00\">32</span>)             │             <span style=\"color: #00af00; text-decoration-color: #00af00\">0</span> │\n",
       "├─────────────────────────────────┼────────────────────────┼───────────────┤\n",
       "│ dense_20 (<span style=\"color: #0087ff; text-decoration-color: #0087ff\">Dense</span>)                │ (<span style=\"color: #00d7ff; text-decoration-color: #00d7ff\">None</span>, <span style=\"color: #00af00; text-decoration-color: #00af00\">6</span>)              │           <span style=\"color: #00af00; text-decoration-color: #00af00\">198</span> │\n",
       "└─────────────────────────────────┴────────────────────────┴───────────────┘\n",
       "</pre>\n"
      ],
      "text/plain": [
       "┏━━━━━━━━━━━━━━━━━━━━━━━━━━━━━━━━━┳━━━━━━━━━━━━━━━━━━━━━━━━┳━━━━━━━━━━━━━━━┓\n",
       "┃\u001b[1m \u001b[0m\u001b[1mLayer (type)                   \u001b[0m\u001b[1m \u001b[0m┃\u001b[1m \u001b[0m\u001b[1mOutput Shape          \u001b[0m\u001b[1m \u001b[0m┃\u001b[1m \u001b[0m\u001b[1m      Param #\u001b[0m\u001b[1m \u001b[0m┃\n",
       "┡━━━━━━━━━━━━━━━━━━━━━━━━━━━━━━━━━╇━━━━━━━━━━━━━━━━━━━━━━━━╇━━━━━━━━━━━━━━━┩\n",
       "│ dense_17 (\u001b[38;5;33mDense\u001b[0m)                │ (\u001b[38;5;45mNone\u001b[0m, \u001b[38;5;34m128\u001b[0m)            │           \u001b[38;5;34m768\u001b[0m │\n",
       "├─────────────────────────────────┼────────────────────────┼───────────────┤\n",
       "│ leaky_re_lu (\u001b[38;5;33mLeakyReLU\u001b[0m)         │ (\u001b[38;5;45mNone\u001b[0m, \u001b[38;5;34m128\u001b[0m)            │             \u001b[38;5;34m0\u001b[0m │\n",
       "├─────────────────────────────────┼────────────────────────┼───────────────┤\n",
       "│ dropout_6 (\u001b[38;5;33mDropout\u001b[0m)             │ (\u001b[38;5;45mNone\u001b[0m, \u001b[38;5;34m128\u001b[0m)            │             \u001b[38;5;34m0\u001b[0m │\n",
       "├─────────────────────────────────┼────────────────────────┼───────────────┤\n",
       "│ dense_18 (\u001b[38;5;33mDense\u001b[0m)                │ (\u001b[38;5;45mNone\u001b[0m, \u001b[38;5;34m64\u001b[0m)             │         \u001b[38;5;34m8,256\u001b[0m │\n",
       "├─────────────────────────────────┼────────────────────────┼───────────────┤\n",
       "│ leaky_re_lu_1 (\u001b[38;5;33mLeakyReLU\u001b[0m)       │ (\u001b[38;5;45mNone\u001b[0m, \u001b[38;5;34m64\u001b[0m)             │             \u001b[38;5;34m0\u001b[0m │\n",
       "├─────────────────────────────────┼────────────────────────┼───────────────┤\n",
       "│ dropout_7 (\u001b[38;5;33mDropout\u001b[0m)             │ (\u001b[38;5;45mNone\u001b[0m, \u001b[38;5;34m64\u001b[0m)             │             \u001b[38;5;34m0\u001b[0m │\n",
       "├─────────────────────────────────┼────────────────────────┼───────────────┤\n",
       "│ dense_19 (\u001b[38;5;33mDense\u001b[0m)                │ (\u001b[38;5;45mNone\u001b[0m, \u001b[38;5;34m32\u001b[0m)             │         \u001b[38;5;34m2,080\u001b[0m │\n",
       "├─────────────────────────────────┼────────────────────────┼───────────────┤\n",
       "│ leaky_re_lu_2 (\u001b[38;5;33mLeakyReLU\u001b[0m)       │ (\u001b[38;5;45mNone\u001b[0m, \u001b[38;5;34m32\u001b[0m)             │             \u001b[38;5;34m0\u001b[0m │\n",
       "├─────────────────────────────────┼────────────────────────┼───────────────┤\n",
       "│ dense_20 (\u001b[38;5;33mDense\u001b[0m)                │ (\u001b[38;5;45mNone\u001b[0m, \u001b[38;5;34m6\u001b[0m)              │           \u001b[38;5;34m198\u001b[0m │\n",
       "└─────────────────────────────────┴────────────────────────┴───────────────┘\n"
      ]
     },
     "metadata": {},
     "output_type": "display_data"
    },
    {
     "data": {
      "text/html": [
       "<pre style=\"white-space:pre;overflow-x:auto;line-height:normal;font-family:Menlo,'DejaVu Sans Mono',consolas,'Courier New',monospace\"><span style=\"font-weight: bold\"> Total params: </span><span style=\"color: #00af00; text-decoration-color: #00af00\">11,302</span> (44.15 KB)\n",
       "</pre>\n"
      ],
      "text/plain": [
       "\u001b[1m Total params: \u001b[0m\u001b[38;5;34m11,302\u001b[0m (44.15 KB)\n"
      ]
     },
     "metadata": {},
     "output_type": "display_data"
    },
    {
     "data": {
      "text/html": [
       "<pre style=\"white-space:pre;overflow-x:auto;line-height:normal;font-family:Menlo,'DejaVu Sans Mono',consolas,'Courier New',monospace\"><span style=\"font-weight: bold\"> Trainable params: </span><span style=\"color: #00af00; text-decoration-color: #00af00\">11,302</span> (44.15 KB)\n",
       "</pre>\n"
      ],
      "text/plain": [
       "\u001b[1m Trainable params: \u001b[0m\u001b[38;5;34m11,302\u001b[0m (44.15 KB)\n"
      ]
     },
     "metadata": {},
     "output_type": "display_data"
    },
    {
     "data": {
      "text/html": [
       "<pre style=\"white-space:pre;overflow-x:auto;line-height:normal;font-family:Menlo,'DejaVu Sans Mono',consolas,'Courier New',monospace\"><span style=\"font-weight: bold\"> Non-trainable params: </span><span style=\"color: #00af00; text-decoration-color: #00af00\">0</span> (0.00 B)\n",
       "</pre>\n"
      ],
      "text/plain": [
       "\u001b[1m Non-trainable params: \u001b[0m\u001b[38;5;34m0\u001b[0m (0.00 B)\n"
      ]
     },
     "metadata": {},
     "output_type": "display_data"
    }
   ],
   "source": [
    "from tensorflow.keras.models import Sequential\n",
    "from tensorflow.keras.layers import Dense, Dropout, LeakyReLU\n",
    "from tensorflow.keras.callbacks import EarlyStopping\n",
    "\n",
    "model = Sequential()\n",
    "model.add(Dense(128, input_shape=(X_train_scaled.shape[1],)))\n",
    "model.add(LeakyReLU(alpha=0.1))\n",
    "model.add(Dropout(0.3))\n",
    "\n",
    "model.add(Dense(64))\n",
    "model.add(LeakyReLU(alpha=0.1))\n",
    "model.add(Dropout(0.3))\n",
    "\n",
    "model.add(Dense(32))\n",
    "model.add(LeakyReLU(alpha=0.1))\n",
    "\n",
    "model.add(Dense(6))  # 6 salidas climáticas\n",
    "\n",
    "model.compile(optimizer='adam', loss='mae')\n",
    "model.summary()\n",
    "model.compile(optimizer='adam', loss='mae')\n",
    "model.summary()\n"
   ]
  },
  {
   "cell_type": "code",
   "execution_count": 52,
   "id": "8eb692b2",
   "metadata": {},
   "outputs": [
    {
     "name": "stdout",
     "output_type": "stream",
     "text": [
      "Epoch 1/20\n",
      "\u001b[1m44742/44742\u001b[0m \u001b[32m━━━━━━━━━━━━━━━━━━━━\u001b[0m\u001b[37m\u001b[0m \u001b[1m279s\u001b[0m 6ms/step - loss: 0.0768 - val_loss: 0.0762\n",
      "Epoch 2/20\n",
      "\u001b[1m44742/44742\u001b[0m \u001b[32m━━━━━━━━━━━━━━━━━━━━\u001b[0m\u001b[37m\u001b[0m \u001b[1m291s\u001b[0m 5ms/step - loss: 0.0740 - val_loss: 0.0745\n",
      "Epoch 3/20\n",
      "\u001b[1m44742/44742\u001b[0m \u001b[32m━━━━━━━━━━━━━━━━━━━━\u001b[0m\u001b[37m\u001b[0m \u001b[1m141s\u001b[0m 3ms/step - loss: 0.0735 - val_loss: 0.0746\n",
      "Epoch 4/20\n",
      "\u001b[1m44742/44742\u001b[0m \u001b[32m━━━━━━━━━━━━━━━━━━━━\u001b[0m\u001b[37m\u001b[0m \u001b[1m463s\u001b[0m 10ms/step - loss: 0.0733 - val_loss: 0.0755\n",
      "Epoch 5/20\n",
      "\u001b[1m44742/44742\u001b[0m \u001b[32m━━━━━━━━━━━━━━━━━━━━\u001b[0m\u001b[37m\u001b[0m \u001b[1m336s\u001b[0m 8ms/step - loss: 0.0732 - val_loss: 0.0748\n",
      "Epoch 6/20\n",
      "\u001b[1m44742/44742\u001b[0m \u001b[32m━━━━━━━━━━━━━━━━━━━━\u001b[0m\u001b[37m\u001b[0m \u001b[1m228s\u001b[0m 5ms/step - loss: 0.0731 - val_loss: 0.0775\n",
      "Epoch 7/20\n",
      "\u001b[1m44742/44742\u001b[0m \u001b[32m━━━━━━━━━━━━━━━━━━━━\u001b[0m\u001b[37m\u001b[0m \u001b[1m129s\u001b[0m 3ms/step - loss: 0.0730 - val_loss: 0.0756\n",
      "Epoch 8/20\n",
      "\u001b[1m44742/44742\u001b[0m \u001b[32m━━━━━━━━━━━━━━━━━━━━\u001b[0m\u001b[37m\u001b[0m \u001b[1m160s\u001b[0m 4ms/step - loss: 0.0730 - val_loss: 0.0752\n",
      "Epoch 9/20\n",
      "\u001b[1m44742/44742\u001b[0m \u001b[32m━━━━━━━━━━━━━━━━━━━━\u001b[0m\u001b[37m\u001b[0m \u001b[1m213s\u001b[0m 5ms/step - loss: 0.0729 - val_loss: 0.0753\n",
      "Epoch 10/20\n",
      "\u001b[1m44742/44742\u001b[0m \u001b[32m━━━━━━━━━━━━━━━━━━━━\u001b[0m\u001b[37m\u001b[0m \u001b[1m128s\u001b[0m 3ms/step - loss: 0.0729 - val_loss: 0.0745\n",
      "Epoch 11/20\n",
      "\u001b[1m44742/44742\u001b[0m \u001b[32m━━━━━━━━━━━━━━━━━━━━\u001b[0m\u001b[37m\u001b[0m \u001b[1m93s\u001b[0m 2ms/step - loss: 0.0729 - val_loss: 0.0750\n",
      "Epoch 12/20\n",
      "\u001b[1m44742/44742\u001b[0m \u001b[32m━━━━━━━━━━━━━━━━━━━━\u001b[0m\u001b[37m\u001b[0m \u001b[1m134s\u001b[0m 3ms/step - loss: 0.0729 - val_loss: 0.0747\n",
      "Epoch 13/20\n",
      "\u001b[1m44742/44742\u001b[0m \u001b[32m━━━━━━━━━━━━━━━━━━━━\u001b[0m\u001b[37m\u001b[0m \u001b[1m139s\u001b[0m 3ms/step - loss: 0.0729 - val_loss: 0.0754\n",
      "Epoch 14/20\n",
      "\u001b[1m44742/44742\u001b[0m \u001b[32m━━━━━━━━━━━━━━━━━━━━\u001b[0m\u001b[37m\u001b[0m \u001b[1m117s\u001b[0m 3ms/step - loss: 0.0729 - val_loss: 0.0759\n",
      "Epoch 15/20\n",
      "\u001b[1m44742/44742\u001b[0m \u001b[32m━━━━━━━━━━━━━━━━━━━━\u001b[0m\u001b[37m\u001b[0m \u001b[1m99s\u001b[0m 2ms/step - loss: 0.0729 - val_loss: 0.0736\n",
      "Epoch 16/20\n",
      "\u001b[1m44742/44742\u001b[0m \u001b[32m━━━━━━━━━━━━━━━━━━━━\u001b[0m\u001b[37m\u001b[0m \u001b[1m98s\u001b[0m 2ms/step - loss: 0.0729 - val_loss: 0.0741\n",
      "Epoch 17/20\n",
      "\u001b[1m44742/44742\u001b[0m \u001b[32m━━━━━━━━━━━━━━━━━━━━\u001b[0m\u001b[37m\u001b[0m \u001b[1m129s\u001b[0m 3ms/step - loss: 0.0729 - val_loss: 0.0750\n",
      "Epoch 18/20\n",
      "\u001b[1m44742/44742\u001b[0m \u001b[32m━━━━━━━━━━━━━━━━━━━━\u001b[0m\u001b[37m\u001b[0m \u001b[1m126s\u001b[0m 3ms/step - loss: 0.0729 - val_loss: 0.0742\n",
      "Epoch 19/20\n",
      "\u001b[1m44742/44742\u001b[0m \u001b[32m━━━━━━━━━━━━━━━━━━━━\u001b[0m\u001b[37m\u001b[0m \u001b[1m110s\u001b[0m 2ms/step - loss: 0.0728 - val_loss: 0.0737\n",
      "Epoch 20/20\n",
      "\u001b[1m44742/44742\u001b[0m \u001b[32m━━━━━━━━━━━━━━━━━━━━\u001b[0m\u001b[37m\u001b[0m \u001b[1m96s\u001b[0m 2ms/step - loss: 0.0729 - val_loss: 0.0735\n"
     ]
    }
   ],
   "source": [
    "from tensorflow.keras.callbacks import EarlyStopping\n",
    "\n",
    "early_stop = EarlyStopping(monitor='val_loss', patience=10, restore_best_weights=True)\n",
    "\n",
    "history = model.fit(\n",
    "    X_train_scaled, y_train_scaled,\n",
    "    epochs=20,\n",
    "    batch_size=8,\n",
    "    validation_data=(X_test_scaled, y_test_scaled),\n",
    "    callbacks=[early_stop],\n",
    "    verbose=1\n",
    ")"
   ]
  },
  {
   "cell_type": "code",
   "execution_count": 53,
   "id": "5af04411",
   "metadata": {},
   "outputs": [
    {
     "name": "stdout",
     "output_type": "stream",
     "text": [
      "\u001b[1m2797/2797\u001b[0m \u001b[32m━━━━━━━━━━━━━━━━━━━━\u001b[0m\u001b[37m\u001b[0m \u001b[1m2s\u001b[0m 824us/step\n",
      "📉 MAE total: 2.48\n",
      "📈 R² global: 0.44 → 44.0% de ajuste\n"
     ]
    }
   ],
   "source": [
    "# Predicción\n",
    "y_pred_scaled = model.predict(X_test_scaled)\n",
    "\n",
    "# Inversión de escala\n",
    "y_test_inv = scaler_output.inverse_transform(y_test_scaled)\n",
    "y_pred_inv = scaler_output.inverse_transform(y_pred_scaled)\n",
    "\n",
    "# Inversión de logaritmo solo para PRECTOTCORR\n",
    "y_pred_inv[:, 0] = np.expm1(y_pred_inv[:, 0])\n",
    "y_test_inv[:, 0] = np.expm1(y_test_inv[:, 0])\n",
    "\n",
    "\n",
    "# Métricas\n",
    "from sklearn.metrics import mean_absolute_error, r2_score\n",
    "\n",
    "mae = mean_absolute_error(y_test_inv, y_pred_inv)\n",
    "r2 = r2_score(y_test_inv, y_pred_inv)\n",
    "\n",
    "print(f\"📉 MAE total: {mae:.2f}\")\n",
    "print(f\"📈 R² global: {r2:.2f} → {(r2*100):.1f}% de ajuste\")"
   ]
  },
  {
   "cell_type": "code",
   "execution_count": 54,
   "id": "11086c76",
   "metadata": {},
   "outputs": [
    {
     "name": "stdout",
     "output_type": "stream",
     "text": [
      "🔍 PRECTOTCORR_log: MAE = 2.83 | R² = -0.01 → -1.3%\n",
      "🔍 T2M_MAX: MAE = 1.76 | R² = 0.44 → 44.4%\n",
      "🔍 T2M_MIN: MAE = 1.27 | R² = 0.63 → 62.7%\n",
      "🔍 RH2M: MAE = 6.00 | R² = 0.54 → 53.6%\n",
      "🔍 WS10M: MAE = 0.50 | R² = 0.59 → 58.9%\n",
      "🔍 ALLSKY_SFC_SW_DWN: MAE = 2.53 | R² = 0.45 → 45.5%\n"
     ]
    }
   ],
   "source": [
    "for i, var in enumerate(output_features):\n",
    "    mae_var = mean_absolute_error(y_test_inv[:, i], y_pred_inv[:, i])\n",
    "    r2_var = r2_score(y_test_inv[:, i], y_pred_inv[:, i])\n",
    "    print(f\"🔍 {var}: MAE = {mae_var:.2f} | R² = {r2_var:.2f} → {(r2_var*100):.1f}%\")"
   ]
  },
  {
   "cell_type": "code",
   "execution_count": 55,
   "id": "b23717da",
   "metadata": {},
   "outputs": [],
   "source": [
    "def predecir_por_fecha_coordenadas(fecha_str, lat, lon, modelo, scaler_in, scaler_out):\n",
    "    fecha = pd.to_datetime(fecha_str, format=\"%Y%m%d\")\n",
    "    entrada = pd.DataFrame([{\n",
    "        'DOY': fecha.dayofyear,\n",
    "        'MONTH': fecha.month,\n",
    "        'YEAR': fecha.year,\n",
    "        'lat': lat,\n",
    "        'lon': lon\n",
    "    }])\n",
    "\n",
    "    entrada_scaled = scaler_in.transform(entrada.values)\n",
    "    pred_scaled = modelo.predict(entrada_scaled)\n",
    "    pred_real = scaler_out.inverse_transform(pred_scaled)\n",
    "\n",
    "    resultado = dict(zip(output_features, pred_real[0]))\n",
    "    print(f\"📍 Predicción para {fecha_str} en ({lat}, {lon}):\")\n",
    "    for var, val in resultado.items():\n",
    "        print(f\"🔮 {var}: {val:.2f}\")\n",
    "    return resultado"
   ]
  },
  {
   "cell_type": "code",
   "execution_count": 56,
   "id": "44af3410",
   "metadata": {},
   "outputs": [
    {
     "name": "stdout",
     "output_type": "stream",
     "text": [
      "\u001b[1m1/1\u001b[0m \u001b[32m━━━━━━━━━━━━━━━━━━━━\u001b[0m\u001b[37m\u001b[0m \u001b[1m0s\u001b[0m 60ms/step\n",
      "📍 Predicción para 20251004 en (20.97, -89.62):\n",
      "🔮 PRECTOTCORR_log: 1.16\n",
      "🔮 T2M_MAX: 30.18\n",
      "🔮 T2M_MIN: 23.95\n",
      "🔮 RH2M: 85.72\n",
      "🔮 WS10M: 1.42\n",
      "🔮 ALLSKY_SFC_SW_DWN: 18.96\n"
     ]
    },
    {
     "data": {
      "text/plain": [
       "{'PRECTOTCORR_log': np.float32(1.1603078),\n",
       " 'T2M_MAX': np.float32(30.175667),\n",
       " 'T2M_MIN': np.float32(23.953657),\n",
       " 'RH2M': np.float32(85.718605),\n",
       " 'WS10M': np.float32(1.415863),\n",
       " 'ALLSKY_SFC_SW_DWN': np.float32(18.962738)}"
      ]
     },
     "execution_count": 56,
     "metadata": {},
     "output_type": "execute_result"
    }
   ],
   "source": [
    "predecir_por_fecha_coordenadas(\"20251004\", 20.97, -89.62, model, scaler_input, scaler_output)"
   ]
  },
  {
   "cell_type": "code",
   "execution_count": null,
   "id": "081b669b",
   "metadata": {},
   "outputs": [],
   "source": [
    "# --- Guardar modelo y scalers automáticamente (ejecuta DESPUES de entrenar) ---\n",
    "# Esta celda intenta detectar objetos comunes y guardarlos en models/\n",
    "os.makedirs(\"models\", exist_ok=True)\n",
    "\n",
    "def _auto_save_rna4_artifacts(prefix=\"models\"):\n",
    "    \"\"\"\n",
    "    Intenta detectar variables habituales y guardarlas:\n",
    "    busca en globals(): model_rna4, model, scaler_input, scaler_output, scaler_in, scaler_out\n",
    "    \"\"\"\n",
    "    g = globals()\n",
    "    saved = {}\n",
    "    # posibles nombres de modelos y scalers\n",
    "    posibles_modelos = [\"model_rna4\", \"model\", \"modelo\", \"modelo_rna4\"]\n",
    "    posibles_scalers_in = [\"scaler_input\", \"scaler_in\", \"scalerX\", \"scaler_input_rna4\", \"scaler_in_rna4\"]\n",
    "    posibles_scalers_out = [\"scaler_output\", \"scaler_out\", \"scalerY\", \"scaler_output_rna4\", \"scaler_out_rna4\"]\n",
    "\n",
    "    for name in posibles_modelos:\n",
    "        if name in g:\n",
    "            joblib.dump(g[name], f\"{prefix}/modelo_rna4.joblib\")\n",
    "            saved[\"model\"] = name\n",
    "            break\n",
    "\n",
    "    for name in posibles_scalers_in:\n",
    "        if name in g:\n",
    "            joblib.dump(g[name], f\"{prefix}/scaler_in_rna4.joblib\")\n",
    "            saved[\"scaler_in\"] = name\n",
    "            break\n",
    "\n",
    "    for name in posibles_scalers_out:\n",
    "        if name in g:\n",
    "            joblib.dump(g[name], f\"{prefix}/scaler_out_rna4.joblib\")\n",
    "            saved[\"scaler_out\"] = name\n",
    "            break\n",
    "\n",
    "    return saved\n"
   ]
  },
  {
   "cell_type": "code",
   "execution_count": null,
   "id": "cf4b589d",
   "metadata": {},
   "outputs": [],
   "source": [
    " #--- Funciones operativas para usar el modelo ya guardado (NO reentrena) ---\n",
    "\n",
    "# Rutas por defecto (ajusta si es necesario)\n",
    "DEFAULT_MODEL_PATH = \"models/modelo_rna4.joblib\"\n",
    "DEFAULT_SCALER_IN = \"models/scaler_in_rna4.joblib\"\n",
    "DEFAULT_SCALER_OUT = \"models/scaler_out_rna4.joblib\"\n",
    "LUGARES_JSON = \"data/lugares.json\"\n",
    "PREDICCIONES_RNA4_JSON = \"data/predicciones_rna4.json\"\n",
    "\n",
    "def parse_fecha(fecha_str):\n",
    "    if isinstance(fecha_str, datetime.date):\n",
    "        return fecha_str\n",
    "    if \"-\" in fecha_str:\n",
    "        return datetime.datetime.strptime(fecha_str, \"%Y-%m-%d\").date()\n",
    "    return datetime.datetime.strptime(fecha_str, \"%Y%m%d\").date()\n",
    "\n",
    "def convertir_fecha_a_numero(fecha_date, fecha_base=None):\n",
    "    if fecha_base is None:\n",
    "        fecha_base = datetime.date(1998, 1, 1)\n",
    "    return (fecha_date - fecha_base).days\n",
    "\n",
    "def cargar_lugares(path=LUGARES_JSON):\n",
    "    p = Path(path)\n",
    "    if not p.exists():\n",
    "        raise FileNotFoundError(f\"No existe el archivo de lugares en {path}\")\n",
    "    with p.open(\"r\", encoding=\"utf-8\") as f:\n",
    "        return json.load(f)\n",
    "\n",
    "def cargar_modelo_rna4(model_path=DEFAULT_MODEL_PATH, scaler_in_path=DEFAULT_SCALER_IN, scaler_out_path=DEFAULT_SCALER_OUT):\n",
    "    model = joblib.load(model_path)\n",
    "    scaler_in = joblib.load(scaler_in_path) if Path(scaler_in_path).exists() else None\n",
    "    scaler_out = joblib.load(scaler_out_path) if Path(scaler_out_path).exists() else None\n",
    "    return model, scaler_in, scaler_out\n",
    "\n",
    "def _map_model_output_to_variables(y_pred):\n",
    "    y = np.asarray(y_pred)\n",
    "    if y.ndim == 1 or (y.ndim == 2 and y.shape[1] == 1):\n",
    "        # un solo valor por muestra\n",
    "        return {\"PRECTOTCORR\": float(y.ravel()[0])}\n",
    "    vals = y[0] if y.ndim == 2 else y\n",
    "    vals = list(vals)\n",
    "    while len(vals) < 6:\n",
    "        vals.append(0.0)\n",
    "    return {\n",
    "        \"PRECTOTCORR\": float(vals[0]),\n",
    "        \"T2M_MAX\": float(vals[1]),\n",
    "        \"T2M_MIN\": float(vals[2]),\n",
    "        \"RH2M\": float(vals[3]),\n",
    "        \"WS10M\": float(vals[4]),\n",
    "        \"ALLSKY_SFC_SW_DWN\": float(vals[5])\n",
    "    }\n",
    "\n",
    "def predecir_por_fecha_lugares(fecha_str, model, scaler_in=None, scaler_out=None,\n",
    "                               lugares_path=LUGARES_JSON, output_file=PREDICCIONES_RNA4_JSON,\n",
    "                               fecha_base=None):\n",
    "    \"\"\"\n",
    "    Recorre todos los lugares en lugares_path y predice usando model (ya entrenado).\n",
    "    Sobrescribe output_file con la lista de dicts resultantes.\n",
    "    \"\"\"\n",
    "    fecha_date = parse_fecha(fecha_str)\n",
    "    dias = convertir_fecha_a_numero(fecha_date, fecha_base)\n",
    "\n",
    "    lugares = cargar_lugares(lugares_path)\n",
    "    resultados = []\n",
    "\n",
    "    for lugar in lugares:\n",
    "        lat = float(lugar.get(\"lat\"))\n",
    "        lon = float(lugar.get(\"lon\"))\n",
    "        X = np.array([[dias, lat, lon]], dtype=float)\n",
    "        X_model = scaler_in.transform(X) if scaler_in is not None else X\n",
    "        y_pred = model.predict(X_model)\n",
    "\n",
    "        # Si hay scaler_out, intentar invertir (si aplica)\n",
    "        if scaler_out is not None:\n",
    "            try:\n",
    "                y_unscaled = scaler_out.inverse_transform(y_pred)\n",
    "            except Exception:\n",
    "                y_unscaled = y_pred\n",
    "        else:\n",
    "            y_unscaled = y_pred\n",
    "\n",
    "        variables = _map_model_output_to_variables(y_unscaled)\n",
    "\n",
    "        resultados.append({\n",
    "            \"id\": lugar.get(\"id\", lugar.get(\"nombre\")),\n",
    "            \"nombre\": lugar.get(\"nombre\"),\n",
    "            \"lat\": lat,\n",
    "            \"lon\": lon,\n",
    "            \"category\": lugar.get(\"category\"),\n",
    "            \"fecha\": fecha_date.isoformat(),\n",
    "            \"dias_desde_base\": int(dias),\n",
    "            \"variables\": variables\n",
    "        })\n",
    "\n",
    "    outp = Path(output_file)\n",
    "    outp.parent.mkdir(parents=True, exist_ok=True)\n",
    "    with outp.open(\"w\", encoding=\"utf-8\") as f:\n",
    "        json.dump(resultados, f, ensure_ascii=False, indent=2)\n",
    "\n",
    "    return resultados\n",
    "\n",
    "# %%\n",
    "# EJEMPLO DE USO (no lo ejecutes hasta que hayas guardado tus modelos con joblib)\n",
    "# model, s_in, s_out = cargar_modelo_rna4()\n",
    "# res = predecir_por_fecha_lugares(\"2025-10-04\", model, s_in, s_out)\n",
    "# print(len(res), res[:2])"
   ]
  },
  {
   "cell_type": "code",
   "execution_count": null,
   "id": "8d63f0eb",
   "metadata": {},
   "outputs": [
    {
     "name": "stderr",
     "output_type": "stream",
     "text": [
      "WARNING:absl:You are saving your model as an HDF5 file via `model.save()` or `keras.saving.save_model(model)`. This file format is considered legacy. We recommend using instead the native Keras format, e.g. `model.save('my_model.keras')` or `keras.saving.save_model(model, 'my_model.keras')`. \n"
     ]
    }
   ],
   "source": [
    "#model.save(\"modelo_clima_mlp.h5\")"
   ]
  },
  {
   "cell_type": "code",
   "execution_count": null,
   "id": "aec421cb",
   "metadata": {},
   "outputs": [],
   "source": [
    "#from tensorflow.keras.models import load_model\n",
    "#modelo_cargado = load_model(\"modelo_clima_mlp.h5\")"
   ]
  }
 ],
 "metadata": {
  "kernelspec": {
   "display_name": "venv",
   "language": "python",
   "name": "python3"
  },
  "language_info": {
   "codemirror_mode": {
    "name": "ipython",
    "version": 3
   },
   "file_extension": ".py",
   "mimetype": "text/x-python",
   "name": "python",
   "nbconvert_exporter": "python",
   "pygments_lexer": "ipython3",
   "version": "3.13.1"
  }
 },
 "nbformat": 4,
 "nbformat_minor": 5
}
